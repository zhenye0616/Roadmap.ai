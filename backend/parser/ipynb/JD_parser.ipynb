{
 "cells": [
  {
   "cell_type": "code",
   "execution_count": 1,
   "metadata": {},
   "outputs": [],
   "source": [
    "from bs4 import BeautifulSoup, Tag, NavigableString\n",
    "import requests"
   ]
  },
  {
   "cell_type": "code",
   "execution_count": 2,
   "metadata": {},
   "outputs": [
    {
     "ename": "AttributeError",
     "evalue": "'NoneType' object has no attribute 'get_text'",
     "output_type": "error",
     "traceback": [
      "\u001b[0;31m---------------------------------------------------------------------------\u001b[0m",
      "\u001b[0;31mAttributeError\u001b[0m                            Traceback (most recent call last)",
      "Cell \u001b[0;32mIn[2], line 9\u001b[0m\n\u001b[1;32m      6\u001b[0m title \u001b[38;5;241m=\u001b[39m title_element\u001b[38;5;241m.\u001b[39mget_text()\u001b[38;5;241m.\u001b[39mstrip()\n\u001b[1;32m      8\u001b[0m company_element \u001b[38;5;241m=\u001b[39m soup\u001b[38;5;241m.\u001b[39mselect_one(\u001b[38;5;124m\"\u001b[39m\u001b[38;5;124m[data-tracking-control-name=\u001b[39m\u001b[38;5;130;01m\\\"\u001b[39;00m\u001b[38;5;124mpublic_jobs_topcard-org-name\u001b[39m\u001b[38;5;130;01m\\\"\u001b[39;00m\u001b[38;5;124m]\u001b[39m\u001b[38;5;124m\"\u001b[39m)\n\u001b[0;32m----> 9\u001b[0m company_name \u001b[38;5;241m=\u001b[39m \u001b[43mcompany_element\u001b[49m\u001b[38;5;241;43m.\u001b[39;49m\u001b[43mget_text\u001b[49m()\u001b[38;5;241m.\u001b[39mstrip()\n\u001b[1;32m     10\u001b[0m company_url \u001b[38;5;241m=\u001b[39m company_element[\u001b[38;5;124m\"\u001b[39m\u001b[38;5;124mhref\u001b[39m\u001b[38;5;124m\"\u001b[39m]\n\u001b[1;32m     12\u001b[0m location_element \u001b[38;5;241m=\u001b[39m soup\u001b[38;5;241m.\u001b[39mselect_one(\u001b[38;5;124m\"\u001b[39m\u001b[38;5;124m.topcard__flavor--bullet\u001b[39m\u001b[38;5;124m\"\u001b[39m)\n",
      "\u001b[0;31mAttributeError\u001b[0m: 'NoneType' object has no attribute 'get_text'"
     ]
    }
   ],
   "source": [
    "job_url = 'https://www.linkedin.com/jobs/search?keywords=Machine%2BLearning&location=United%2BStates&geoId=103644278&trk=public_jobs_jobs-search-bar_search-submit&currentJobId=4206679802&position=2&pageNum=0'\n",
    "response = requests.get(job_url)\n",
    "html = response.text\n",
    "soup = BeautifulSoup(html, \"html.parser\")\n",
    "title_element = soup.select_one(\"h1\")\n",
    "title = title_element.get_text().strip()\n",
    "\n",
    "company_element = soup.select_one(\"[data-tracking-control-name=\\\"public_jobs_topcard-org-name\\\"]\")\n",
    "company_name = company_element.get_text().strip()\n",
    "company_url = company_element[\"href\"]\n",
    "\n",
    "location_element = soup.select_one(\".topcard__flavor--bullet\")\n",
    "location = location_element.get_text().strip()\n",
    "\n",
    "applicants_element = soup.select_one(\".num-applicants__caption\")\n",
    "applicants = applicants_element.get_text().strip()\n",
    "salary_element = soup.select_one(\".salary\")\n",
    "if salary_element is not None:\n",
    "    salary = salary_element.get_text().strip()\n",
    "else:\n",
    "    salary = None\n",
    "\n",
    "print(location)\n",
    "print(applicants)"
   ]
  },
  {
   "cell_type": "code",
   "execution_count": 3,
   "metadata": {},
   "outputs": [
    {
     "name": "stdout",
     "output_type": "stream",
     "text": [
      "<div class=\"show-more-less-html__markup show-more-less-html__markup--clamp-after-5 relative overflow-hidden\">\n",
      "<strong>Location:</strong> Hybrid (some travel to Washington, DC area)<br/><br/><strong>Work Type</strong>: Full-Time<br/><br/><strong><strong>About PingWind<br/><br/></strong></strong>PingWind is an SBA-certified Service-Disabled Veteran Owned Small Business (SDVOSB) delivering mission-critical technology solutions to federal government partners. We help clients secure information, modernize systems, and optimize performance through advanced technologies—including AI-driven operations and machine learning. Our team values innovation, teamwork, and a commitment to making a meaningful difference in the world. Join us to work with smart, dedicated individuals on important missions that shape the future.<br/><br/><strong><strong>Position Summary<br/><br/></strong></strong>We are seeking a highly motivated Junior AI/ML Engineer to join our growing team. In this role, you will contribute to the design, development, and deployment of machine learning models and AI solutions that support our clients’ digital transformation and automation initiatives. This is an excellent opportunity for early-career professionals eager to learn, grow, and make an impact in a collaborative, mission-driven environment.<br/><br/><strong><strong>Key Responsibilities<br/><br/></strong></strong><ul><li> Assist in collecting, cleaning, and preprocessing structured and unstructured data for use in machine learning models</li><li> Support the design, training, testing, and deployment of machine learning and deep learning models for real-world applications</li><li> Collaborate with senior engineers and cross-functional teams to identify, extract, and engineer relevant features for model performance</li><li> Analyze and evaluate model performance using appropriate metrics; help optimize models for accuracy and efficiency</li><li> Contribute to the integration and deployment of ML models into production environments using APIs or deployment pipelines</li><li> Stay current with the latest AI/ML trends, tools, and best practices; experiment with innovative techniques under guidance</li><li> Document datasets, models, experiments, and code to ensure reproducibility and knowledge sharing</li><li> Communicate technical concepts effectively to both technical and non-technical stakeholders<br/><br/><br/></li></ul><strong><strong>Required Qualifications<br/><br/></strong></strong><ul><li> Bachelor’s degree in Computer Science, Data Science, Engineering, Mathematics, or a related field. Or 2 years work experience in software engineering with some AI/ML practices</li><li> Proficiency in Python and familiarity with ML libraries such as TensorFlow, PyTorch, Scikit-learn, or Keras</li><li> Strong understanding of linear algebra, probability, statistics, and optimization techniques</li><li> Experience with data manipulation tools (e.g., pandas, NumPy) and data visualization libraries (e.g., Matplotlib, Seaborn)</li><li> Knowledge of version control systems (e.g., Git) for collaborative development</li><li> Analytical mindset and a passion for solving complex problems</li><li>Excellent communication and teamwork skills<br/><br/><br/></li></ul><strong><strong>Preferred Qualifications<br/><br/></strong></strong><ul><li> Experience with cloud platforms (AWS, Azure, GCP) and MLOps practices</li><li> Familiarity with Agile methodologies and DevOps practices</li><li> Exposure to natural language processing (NLP), computer vision, or cybersecurity applications is a plus</li><li> Internship or project experience in AI/ML, including participation in Kaggle competitions or open-source contributions<br/><br/><br/></li></ul><strong>Why Join PingWind?<br/><br/></strong><ul><li> Work on impactful projects that support national security and digital transformation for federal clients</li><li> Collaborate with a diverse, mission-driven team that values innovation and professional growth</li><li> Hybrid work flexibility with offices in Annandale, VA and Washington, DC, plus a distributed team across 37 states</li><li> Opportunities for continuous learning and investing in our people through mentorship and challenging assignments<br/><br/><br/></li></ul><strong><strong>About PingWind<br/><br/></strong></strong>PingWind is focused on delivering outstanding services to the federal government. We have extensive experience in the fields of cybersecurity, development, IT infrastructure, supply chain management and other professional services such as system design and continuous improvement. PingWind is an SBA certified Service-Disabled Veteran-Owned Small Business (SDVOSB) with offices in Northern Virginia and Huntsville AL. www.PingWind.com<br/><br/>Our benefits include:<br/><br/>Paid Federal Holidays<br/><br/>Robust Health &amp; Dental Insurance Options<br/><br/>401k with matching<br/><br/>Paid vacation and sick leave<br/><br/>Continuing education assistance<br/><br/>Short Term / Long Term Disability &amp; Life Insurance<br/><br/>Employee Assistance Program through Sun Life Financial EAP Guidance Resources<br/><br/>Veterans are encouraged to apply<br/><br/>PingWind, Inc. does not discriminate in employment opportunities, terms, and conditions of employment, or practices on the basis of race, age, gender, religious or political beliefs, national origin or heritage, disability, sexual orientation, or any characteristic protected by law.\n",
      "        </div>\n"
     ]
    }
   ],
   "source": [
    "description_element = soup.select_one(\".description__text .show-more-less-html\")\n",
    "markup = description_element.select_one(\".show-more-less-html__markup\")\n",
    "print(markup)\n"
   ]
  },
  {
   "cell_type": "code",
   "execution_count": 4,
   "metadata": {},
   "outputs": [],
   "source": [
    "data = {}\n",
    "# 1) find every <strong> whose parent is NOT another <strong>\n",
    "headers = [h for h in soup.find_all(\"strong\") if h.parent.name != \"strong\"]\n",
    "\n",
    "for head in headers:\n",
    "    # normalize label text\n",
    "    label = head.get_text(strip=True).rstrip(\":\")\n",
    "    parts = []\n",
    "    # 2) walk siblings until the next top-level <strong>\n",
    "    for sib in head.next_siblings:\n",
    "        # stop at next header\n",
    "        if isinstance(sib, Tag) and sib.name == \"strong\" and sib.parent.name != \"strong\":\n",
    "            break\n",
    "        # skip pure <br> spacing\n",
    "        if isinstance(sib, Tag) and sib.name == \"br\":\n",
    "            continue\n",
    "        # text nodes\n",
    "        if isinstance(sib, NavigableString):\n",
    "            txt = sib.strip()\n",
    "            if txt:\n",
    "                parts.append(txt)\n",
    "        # any other tag (e.g. <ul>, <p>)\n",
    "        elif isinstance(sib, Tag):\n",
    "            txt = sib.get_text(\" \", strip=True)\n",
    "            if txt:\n",
    "                parts.append(txt)\n",
    "    data[label] = \" \".join(parts).strip()\n",
    "\n",
    "required_qualification = data['Required Qualifications']\n",
    "preferred_qualification = data['Preferred Qualifications']"
   ]
  },
  {
   "cell_type": "code",
   "execution_count": 5,
   "metadata": {},
   "outputs": [
    {
     "name": "stdout",
     "output_type": "stream",
     "text": [
      "<li class=\"description__job-criteria-item\">\n",
      "<h3 class=\"description__job-criteria-subheader\">\n",
      "            Seniority level\n",
      "          </h3>\n",
      "<span class=\"description__job-criteria-text description__job-criteria-text--criteria\">\n",
      "            Not Applicable\n",
      "          </span>\n",
      "</li>\n",
      "<li class=\"description__job-criteria-item\">\n",
      "<h3 class=\"description__job-criteria-subheader\">\n",
      "            Employment type\n",
      "          </h3>\n",
      "<span class=\"description__job-criteria-text description__job-criteria-text--criteria\">\n",
      "            Internship\n",
      "          </span>\n",
      "</li>\n",
      "<li class=\"description__job-criteria-item\">\n",
      "<h3 class=\"description__job-criteria-subheader\">\n",
      "              Job function\n",
      "            </h3>\n",
      "<span class=\"description__job-criteria-text description__job-criteria-text--criteria\">\n",
      "              Engineering and Information Technology\n",
      "            </span>\n",
      "</li>\n",
      "<li class=\"description__job-criteria-item\">\n",
      "<h3 class=\"description__job-criteria-subheader\">\n",
      "              Industries\n",
      "            </h3>\n",
      "<span class=\"description__job-criteria-text description__job-criteria-text--criteria\">\n",
      "            IT Services and IT Consulting\n",
      "            </span>\n",
      "</li>\n",
      "[{'name': 'Seniority level', 'value': 'Not Applicable'}, {'name': 'Employment type', 'value': 'Internship'}, {'name': 'Job function', 'value': 'Engineering and Information Technology'}, {'name': 'Industries', 'value': 'IT Services and IT Consulting'}]\n"
     ]
    }
   ],
   "source": [
    "criteria = []\n",
    "criteria_elements = soup.select(\".description__job-criteria-list li\")\n",
    "for criteria_element in criteria_elements:\n",
    "    print(criteria_element)\n",
    "    name_element = criteria_element.select_one(\".description__job-criteria-subheader\")\n",
    "    name = name_element.get_text().strip()\n",
    "\n",
    "    value_element = criteria_element.select_one(\".description__job-criteria-text\")\n",
    "    value = value_element.get_text().strip()\n",
    "\n",
    "    criteria.append({\n",
    "        \"name\": name,\n",
    "        \"value\": value\n",
    "    })\n",
    "\n",
    "print(criteria)"
   ]
  },
  {
   "cell_type": "code",
   "execution_count": 6,
   "metadata": {},
   "outputs": [],
   "source": [
    "job = {\n",
    "    \"url\": job_url,\n",
    "    \"title\": title,\n",
    "    \"company\": {\n",
    "        \"name\": company_name,\n",
    "        \"url\": company_url\n",
    "    },\n",
    "    \"location\": location,\n",
    "    \"applications\": applicants,\n",
    "    \"salary\": salary,\n",
    "    \"required qualification\": required_qualification,\n",
    "    \"preferred qualification\": preferred_qualification,\n",
    "    \"criteria\": criteria\n",
    "}"
   ]
  },
  {
   "cell_type": "code",
   "execution_count": 7,
   "metadata": {},
   "outputs": [
    {
     "data": {
      "text/plain": [
       "{'url': 'https://www.linkedin.com/jobs/view/junior-artificial-intelligence-ai-machine-learning-ml-engineer-at-pingwind-inc-sdvosb-4211917486?position=1&pageNum=0&refId=tpce3jhwfSQDn1S%2B1BsVrg%3D%3D&trackingId=q98vLda4U3aFybBlVxCnpQ%3D%3D',\n",
       " 'title': 'Junior Artificial Intelligence (AI) / Machine Learning (ML) Engineer',\n",
       " 'company': {'name': 'PingWind Inc. (SDVOSB)',\n",
       "  'url': 'https://www.linkedin.com/company/pingwind-inc-?trk=public_jobs_topcard-org-name'},\n",
       " 'location': 'Washington DC-Baltimore Area',\n",
       " 'applications': 'Be among the first 25 applicants',\n",
       " 'salary': None,\n",
       " 'required qualification': 'Bachelor’s degree in Computer Science, Data Science, Engineering, Mathematics, or a related field. Or 2 years work experience in software engineering with some AI/ML practices Proficiency in Python and familiarity with ML libraries such as TensorFlow, PyTorch, Scikit-learn, or Keras Strong understanding of linear algebra, probability, statistics, and optimization techniques Experience with data manipulation tools (e.g., pandas, NumPy) and data visualization libraries (e.g., Matplotlib, Seaborn) Knowledge of version control systems (e.g., Git) for collaborative development Analytical mindset and a passion for solving complex problems Excellent communication and teamwork skills',\n",
       " 'preferred qualification': 'Experience with cloud platforms (AWS, Azure, GCP) and MLOps practices Familiarity with Agile methodologies and DevOps practices Exposure to natural language processing (NLP), computer vision, or cybersecurity applications is a plus Internship or project experience in AI/ML, including participation in Kaggle competitions or open-source contributions',\n",
       " 'criteria': [{'name': 'Seniority level', 'value': 'Not Applicable'},\n",
       "  {'name': 'Employment type', 'value': 'Internship'},\n",
       "  {'name': 'Job function', 'value': 'Engineering and Information Technology'},\n",
       "  {'name': 'Industries', 'value': 'IT Services and IT Consulting'}]}"
      ]
     },
     "execution_count": 7,
     "metadata": {},
     "output_type": "execute_result"
    }
   ],
   "source": [
    "job"
   ]
  }
 ],
 "metadata": {
  "kernelspec": {
   "display_name": "skillgap-backend",
   "language": "python",
   "name": "python3"
  },
  "language_info": {
   "codemirror_mode": {
    "name": "ipython",
    "version": 3
   },
   "file_extension": ".py",
   "mimetype": "text/x-python",
   "name": "python",
   "nbconvert_exporter": "python",
   "pygments_lexer": "ipython3",
   "version": "3.9.21"
  }
 },
 "nbformat": 4,
 "nbformat_minor": 2
}
